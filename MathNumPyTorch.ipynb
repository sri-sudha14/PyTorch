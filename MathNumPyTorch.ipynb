{
  "nbformat": 4,
  "nbformat_minor": 0,
  "metadata": {
    "colab": {
      "provenance": [],
      "authorship_tag": "ABX9TyMuW0eto3AJeDV3OsL+H69n",
      "include_colab_link": true
    },
    "kernelspec": {
      "name": "python3",
      "display_name": "Python 3"
    },
    "language_info": {
      "name": "python"
    }
  },
  "cells": [
    {
      "cell_type": "markdown",
      "metadata": {
        "id": "view-in-github",
        "colab_type": "text"
      },
      "source": [
        "<a href=\"https://colab.research.google.com/github/sri-sudha14/PyTorch/blob/main/MathNumPyTorch.ipynb\" target=\"_parent\"><img src=\"https://colab.research.google.com/assets/colab-badge.svg\" alt=\"Open In Colab\"/></a>"
      ]
    },
    {
      "cell_type": "markdown",
      "source": [
        "# **Transpose**"
      ],
      "metadata": {
        "id": "J-w12aavPozC"
      }
    },
    {
      "cell_type": "code",
      "execution_count": null,
      "metadata": {
        "id": "uiQWNCHO7Aj1"
      },
      "outputs": [],
      "source": [
        "import numpy as np\n",
        "import torch"
      ]
    },
    {
      "cell_type": "markdown",
      "source": [
        "# Using Numpy"
      ],
      "metadata": {
        "id": "UXNWEkpa7WeX"
      }
    },
    {
      "cell_type": "code",
      "source": [
        "nv = np.array([[1, 2, 3]])\n",
        "print(\"Matrix:\", nv)\n",
        "nvT = nv.T\n",
        "print(\"Transpose:\\n\", nvT)"
      ],
      "metadata": {
        "colab": {
          "base_uri": "https://localhost:8080/"
        },
        "id": "K4TVG_7P7pnc",
        "outputId": "cc756f72-638c-42a5-e9f4-f35e4787138b"
      },
      "execution_count": null,
      "outputs": [
        {
          "output_type": "stream",
          "name": "stdout",
          "text": [
            "Matrix: [[1 2 3]]\n",
            "Transpose:\n",
            " [[1]\n",
            " [2]\n",
            " [3]]\n"
          ]
        }
      ]
    },
    {
      "cell_type": "markdown",
      "source": [
        "# Using PyTorch"
      ],
      "metadata": {
        "id": "mlJrAjk-8EnJ"
      }
    },
    {
      "cell_type": "code",
      "source": [
        "nm = torch.tensor([[1, 2, 3], [4, 5, 6]])\n",
        "print(\"Matrix:\\n\", nm)\n",
        "nmT = nm.T\n",
        "print(\"Transpose:\\n\", nmT)"
      ],
      "metadata": {
        "colab": {
          "base_uri": "https://localhost:8080/"
        },
        "id": "uGKRi6Iz7pjt",
        "outputId": "0f3694e2-8a0e-4ca2-d4cf-d7749809a845"
      },
      "execution_count": null,
      "outputs": [
        {
          "output_type": "stream",
          "name": "stdout",
          "text": [
            "Matrix:\n",
            " tensor([[1, 2, 3],\n",
            "        [4, 5, 6]])\n",
            "Transpose:\n",
            " tensor([[1, 4],\n",
            "        [2, 5],\n",
            "        [3, 6]])\n"
          ]
        }
      ]
    },
    {
      "cell_type": "code",
      "source": [
        "print(\"Variable type of nv: \", type(nv))\n",
        "print(\"Variable type of nvT: \", type(nvT))\n",
        "print(\"Variable type of nm: \", type(nm))\n",
        "print(\"Variable type of nmT: \", type(nmT))"
      ],
      "metadata": {
        "colab": {
          "base_uri": "https://localhost:8080/"
        },
        "id": "cK1ezfKx8r0f",
        "outputId": "9eea5b8f-4e0e-4004-964c-4047db8385b6"
      },
      "execution_count": null,
      "outputs": [
        {
          "output_type": "stream",
          "name": "stdout",
          "text": [
            "Variable type of nv:  <class 'numpy.ndarray'>\n",
            "Variable type of nvT:  <class 'numpy.ndarray'>\n",
            "Variable type of nm:  <class 'torch.Tensor'>\n",
            "Variable type of nmT:  <class 'torch.Tensor'>\n"
          ]
        }
      ]
    },
    {
      "cell_type": "markdown",
      "source": [
        "# **Softmax**"
      ],
      "metadata": {
        "id": "Y4M-iy6pPwNl"
      }
    },
    {
      "cell_type": "code",
      "source": [
        "import torch.nn as nn\n",
        "import matplotlib.pyplot as plt"
      ],
      "metadata": {
        "id": "QRdFMZUSQ9Kq"
      },
      "execution_count": null,
      "outputs": []
    },
    {
      "cell_type": "markdown",
      "source": [
        "# Using Numpy\n"
      ],
      "metadata": {
        "id": "EwoWBzK6RG-D"
      }
    },
    {
      "cell_type": "code",
      "source": [
        "z = [1, 2, 3, 4]\n",
        "num = np.exp(z)\n",
        "den = np.sum(num)\n",
        "sigma = num/den\n",
        "\n",
        "print(sigma)\n",
        "print(round(np.sum(sigma), 2))"
      ],
      "metadata": {
        "colab": {
          "base_uri": "https://localhost:8080/"
        },
        "id": "8QUKM4NwRMNP",
        "outputId": "83c13b10-407a-43b0-bcc2-22166f53ff3f"
      },
      "execution_count": null,
      "outputs": [
        {
          "output_type": "stream",
          "name": "stdout",
          "text": [
            "[0.0320586  0.08714432 0.23688282 0.64391426]\n",
            "1.0\n"
          ]
        }
      ]
    },
    {
      "cell_type": "code",
      "source": [
        "plt.plot(z, sigma, 'ko')\n",
        "plt.xlabel(\"z\")\n",
        "plt.ylabel(\"Softmax Output\")\n",
        "plt.title('Numpy')\n",
        "#plt.yscale('log')\n",
        "plt.show()"
      ],
      "metadata": {
        "colab": {
          "base_uri": "https://localhost:8080/",
          "height": 472
        },
        "id": "HrboMpPDRMQQ",
        "outputId": "c5780557-a8ea-4ca4-a675-ac8417148e1d"
      },
      "execution_count": null,
      "outputs": [
        {
          "output_type": "display_data",
          "data": {
            "text/plain": [
              "<Figure size 640x480 with 1 Axes>"
            ],
            "image/png": "[encoded data removed]"
          },
          "metadata": {}
        }
      ]
    },
    {
      "cell_type": "markdown",
      "source": [
        "# Using PyTorch"
      ],
      "metadata": {
        "id": "DNrFvNEQTv22"
      }
    },
    {
      "cell_type": "code",
      "source": [
        "softfun = nn.Softmax(dim=0)\n",
        "sigmaT = softfun(torch.Tensor(z))\n",
        "\n",
        "print(sigmaT)"
      ],
      "metadata": {
        "colab": {
          "base_uri": "https://localhost:8080/"
        },
        "id": "Xs3vOa41Tzex",
        "outputId": "54486073-de3a-4190-9de7-e9117b5586cd"
      },
      "execution_count": null,
      "outputs": [
        {
          "output_type": "stream",
          "name": "stdout",
          "text": [
            "tensor([0.0321, 0.0871, 0.2369, 0.6439])\n"
          ]
        }
      ]
    },
    {
      "cell_type": "code",
      "source": [
        "plt.plot(z, sigma, 'ko')\n",
        "plt.xlabel(\"z\")\n",
        "plt.ylabel(\"Softmax Output\")\n",
        "plt.title('PyTorch')\n",
        "#plt.yscale('log')\n",
        "plt.show()"
      ],
      "metadata": {
        "colab": {
          "base_uri": "https://localhost:8080/",
          "height": 472
        },
        "id": "nDs7yA7BVZSf",
        "outputId": "4f42a463-e717-4ff1-86d0-1a88b5c2ea46"
      },
      "execution_count": null,
      "outputs": [
        {
          "output_type": "display_data",
          "data": {
            "text/plain": [
              "<Figure size 640x480 with 1 Axes>"
            ],
            "image/png": "[encoded data removed]"
          },
          "metadata": {}
        }
      ]
    },
    {
      "cell_type": "markdown",
      "source": [
        "## **Logarithm**"
      ],
      "metadata": {
        "id": "a7pXbTjqWKyu"
      }
    },
    {
      "cell_type": "markdown",
      "source": [
        "# Using Numpy"
      ],
      "metadata": {
        "id": "mdrtztbtWKw6"
      }
    },
    {
      "cell_type": "code",
      "source": [
        "x = np.linspace(.0001, 1, 50)\n",
        "logx = np.log(x)\n",
        "\n",
        "fig = plt.figure(figsize=(10, 4))\n",
        "plt.plot(x, logx, 'o-', markerfacecolor='white')\n",
        "plt.xlabel(\"x\")\n",
        "plt.ylabel(\"log(x)\")\n",
        "plt.show()"
      ],
      "metadata": {
        "colab": {
          "base_uri": "https://localhost:8080/",
          "height": 388
        },
        "id": "XWFBOUGKX8OQ",
        "outputId": "1e4b422c-e65f-4272-fdd1-4c955a7977e7"
      },
      "execution_count": null,
      "outputs": [
        {
          "output_type": "display_data",
          "data": {
            "text/plain": [
              "<Figure size 1000x400 with 1 Axes>"
            ],
            "image/png": "[encoded data removed]"
          },
          "metadata": {}
        }
      ]
    },
    {
      "cell_type": "code",
      "source": [
        "x = np.linspace(.0001, 1, 20)\n",
        "logx = np.log(x)\n",
        "expx = np.exp(x)\n",
        "\n",
        "plt.plot(x, x)\n",
        "plt.plot(x, np.exp(logx), 'x')\n",
        "plt.plot(x, np.log(expx), 'o')\n",
        "plt.xlabel(\"x\")\n",
        "plt.ylabel(\"f(g(x))\")\n",
        "plt.title('log vs exp')\n",
        "plt.legend(['unity', 'exp(log(x))', 'log(exp(x))'])\n",
        "plt.show()"
      ],
      "metadata": {
        "colab": {
          "base_uri": "https://localhost:8080/",
          "height": 472
        },
        "id": "zi328Jv5kuP4",
        "outputId": "defcb5b2-ad44-4343-8e83-165ade1697da"
      },
      "execution_count": null,
      "outputs": [
        {
          "output_type": "display_data",
          "data": {
            "text/plain": [
              "<Figure size 640x480 with 1 Axes>"
            ],
            "image/png": "[encoded data removed]"
          },
          "metadata": {}
        }
      ]
    },
    {
      "cell_type": "markdown",
      "source": [
        "# **Entropy**\n",
        "H = - (p* np.log(p) + (1-p)* np.log(1-p))"
      ],
      "metadata": {
        "id": "61QXXa32rxfY"
      }
    },
    {
      "cell_type": "code",
      "source": [
        "p = .25\n",
        "\n",
        "H = - (p* np.log(p) + (1-p)* np.log(1-p))\n",
        "\n",
        "print(\"Entropy: \", H)"
      ],
      "metadata": {
        "colab": {
          "base_uri": "https://localhost:8080/"
        },
        "id": "y5y6c67ir8Jq",
        "outputId": "88dd8b96-d837-433c-e08a-0c12857bb22b"
      },
      "execution_count": null,
      "outputs": [
        {
          "output_type": "stream",
          "name": "stdout",
          "text": [
            "Entropy:  0.5623351446188083\n"
          ]
        }
      ]
    },
    {
      "cell_type": "markdown",
      "source": [
        "# Cross Entropy"
      ],
      "metadata": {
        "id": "DSJjlb1cspTn"
      }
    },
    {
      "cell_type": "code",
      "source": [
        "p = [1, 0]\n",
        "q = [.25, .75]\n",
        "\n",
        "H = - (p[0]* np.log(q[0]) + p[1]* np.log(q[1]))\n",
        "#H = - np.log(q[0])\n",
        "\n",
        "print(\"Cross Entropy:\", H)"
      ],
      "metadata": {
        "colab": {
          "base_uri": "https://localhost:8080/"
        },
        "id": "tm9xRvNTshuN",
        "outputId": "baaf2616-9eee-41a5-cfcd-b255bc846504"
      },
      "execution_count": null,
      "outputs": [
        {
          "output_type": "stream",
          "name": "stdout",
          "text": [
            "Cross Entropy: 1.3862943611198906\n"
          ]
        }
      ]
    },
    {
      "cell_type": "markdown",
      "source": [
        "# Using PyTorch"
      ],
      "metadata": {
        "id": "zxpPyN5zthwD"
      }
    },
    {
      "cell_type": "code",
      "source": [
        "import torch.nn.functional as F\n",
        "\n",
        "#p->actual\n",
        "#q->predicted\n",
        "\n",
        "print(\"Wrong Order: \", F.binary_cross_entropy(torch.Tensor(p), torch.Tensor(q)))\n",
        "print(\"Correct Order: \", F.binary_cross_entropy(torch.Tensor(q), torch.Tensor(p)))"
      ],
      "metadata": {
        "colab": {
          "base_uri": "https://localhost:8080/"
        },
        "id": "HN6qENrStkvq",
        "outputId": "a1b170fa-a2b8-4366-f424-318f54a446f8"
      },
      "execution_count": null,
      "outputs": [
        {
          "output_type": "stream",
          "name": "stdout",
          "text": [
            "Wrong Order:  tensor(75.)\n",
            "Correct Order:  tensor(1.3863)\n"
          ]
        }
      ]
    },
    {
      "cell_type": "markdown",
      "source": [
        "## **Min, Max, Argmin, Argmax**"
      ],
      "metadata": {
        "id": "RaKs5uR2wy4W"
      }
    },
    {
      "cell_type": "code",
      "source": [
        "M = np.array([[0, 2, 7],\n",
        "              [8, 11, 4]])\n",
        "\n",
        "print('Matrix:\\n', M)\n",
        "\n",
        "print('\\nMin Value: ', np.min(M))\n",
        "print('Arg: ', np.argmin(M))\n",
        "\n",
        "print('\\nRow wise: ', np.min(M, axis=0))\n",
        "print('Arg: ', np.argmin(M, axis=0))\n",
        "\n",
        "print('\\nColumn wise: ', np.min(M, axis=1))\n",
        "print('Arg: ', np.argmin(M, axis=1))"
      ],
      "metadata": {
        "colab": {
          "base_uri": "https://localhost:8080/"
        },
        "id": "hrcfKzCnw4Em",
        "outputId": "1bddd39f-de01-4d3d-bcf7-3ea4867901ce"
      },
      "execution_count": null,
      "outputs": [
        {
          "output_type": "stream",
          "name": "stdout",
          "text": [
            "Matrix:\n",
            " [[ 0  2  7]\n",
            " [ 8 11  4]]\n",
            "\n",
            "Min Value:  0\n",
            "Arg:  0\n",
            "\n",
            "Row wise:  [0 2 4]\n",
            "Arg:  [0 0 1]\n",
            "\n",
            "Column wise:  [0 4]\n",
            "Arg:  [0 2]\n"
          ]
        }
      ]
    },
    {
      "cell_type": "code",
      "source": [
        "M = torch.tensor([[0, 2, 7], [8, 11, 4]])\n",
        "\n",
        "print('Matrix:\\n', M)\n",
        "\n",
        "print('\\nMax Value: ', torch.max(M))\n",
        "print('Arg: ', torch.argmax(M))\n",
        "\n",
        "print('\\nRow wise: ', torch.max(M, axis=0).values)\n",
        "print('Arg: ', torch.max(M, axis=0).indices)\n",
        "\n",
        "print('\\nColumn wise: ', torch.max(M, axis=1).values)\n",
        "print('Arg: ', torch.max(M, axis=1).indices)"
      ],
      "metadata": {
        "colab": {
          "base_uri": "https://localhost:8080/"
        },
        "id": "hSlETZJbx_Za",
        "outputId": "61e89ca5-6269-491a-ff3d-a0bcf920bafd"
      },
      "execution_count": null,
      "outputs": [
        {
          "output_type": "stream",
          "name": "stdout",
          "text": [
            "Matrix:\n",
            " tensor([[ 0,  2,  7],\n",
            "        [ 8, 11,  4]])\n",
            "\n",
            "Max Value:  tensor(11)\n",
            "Arg:  tensor(4)\n",
            "\n",
            "Row wise:  tensor([ 8, 11,  7])\n",
            "Arg:  tensor([1, 1, 0])\n",
            "\n",
            "Column wise:  tensor([ 7, 11])\n",
            "Arg:  tensor([2, 1])\n"
          ]
        }
      ]
    },
    {
      "cell_type": "markdown",
      "source": [
        "# **Replacing missing data using Mean Value**"
      ],
      "metadata": {
        "id": "sWPIkkypqDxb"
      }
    },
    {
      "cell_type": "code",
      "source": [
        "import torch\n",
        "\n",
        "# Create a tensor with missing values (represented by NaN)\n",
        "data = torch.tensor([[1, 2, torch.nan], [4, torch.nan, 6], [torch.nan, 8, 9]])\n",
        "print(data)\n",
        "\n",
        "# Mask for missing values\n",
        "mask = torch.isnan(data)\n",
        "\n",
        "# Calculate mean of valid values along each column\n",
        "mean_values = data[~mask].mean(dim=0)\n",
        "print(mean_values)\n",
        "\n",
        "# Replace missing values with mean values\n",
        "data[mask] = mean_values\n",
        "\n",
        "print(\"Original data:\")\n",
        "print(data)"
      ],
      "metadata": {
        "colab": {
          "base_uri": "https://localhost:8080/"
        },
        "id": "Fea4qwVAqCGP",
        "outputId": "23d9168d-b853-45d9-e6a2-7ae66a3483aa"
      },
      "execution_count": 1,
      "outputs": [
        {
          "output_type": "stream",
          "name": "stdout",
          "text": [
            "tensor([[1., 2., nan],\n",
            "        [4., nan, 6.],\n",
            "        [nan, 8., 9.]])\n",
            "tensor(5.)\n",
            "Original data:\n",
            "tensor([[1., 2., 5.],\n",
            "        [4., 5., 6.],\n",
            "        [5., 8., 9.]])\n"
          ]
        }
      ]
    }
  ]
}